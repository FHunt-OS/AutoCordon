{
 "cells": [
  {
   "cell_type": "code",
   "execution_count": null,
   "id": "de317f0a",
   "metadata": {},
   "outputs": [],
   "source": [
    "import geopandas as gpd\n",
    "import momepy as mm\n",
    "import matplotlib.pyplot as plt"
   ]
  },
  {
   "cell_type": "code",
   "execution_count": null,
   "id": "d5c71ea8",
   "metadata": {},
   "outputs": [],
   "source": [
    "roads_path = r\"..\\tests\\data\\SU_open_roads_small.geojson\"\n",
    "roads = gpd.read_file(roads_path)\n",
    "roads = roads.explode().reset_index(drop=True)\n",
    "roads_simplified = mm.remove_false_nodes(roads)"
   ]
  },
  {
   "cell_type": "code",
   "execution_count": null,
   "id": "07ca5738",
   "metadata": {},
   "outputs": [],
   "source": [
    "f, ax = plt.subplots()\n",
    "roads.plot(ax=ax)\n",
    "ax.set_xlim((440000, 441000))\n",
    "ax.set_ylim((113000, 114000))\n",
    "plt.show()"
   ]
  },
  {
   "cell_type": "code",
   "execution_count": null,
   "id": "4e50a5a8",
   "metadata": {},
   "outputs": [],
   "source": [
    "f, ax = plt.subplots()\n",
    "roads_simplified.plot(ax=ax)\n",
    "ax.set_xlim((440000, 441000))\n",
    "ax.set_ylim((113000, 114000))\n",
    "plt.show()"
   ]
  },
  {
   "cell_type": "code",
   "execution_count": null,
   "id": "118aa98b",
   "metadata": {},
   "outputs": [],
   "source": [
    "# g = mm.gdf_to_nx(roads_simplified)\n",
    "# print(mm.close_gaps(roads, 0.5))\n",
    "g = mm.gdf_to_nx(roads_simplified)\n",
    "lines = pyg.linestrings(list(g.edges()))\n",
    "# print(lines)\n",
    "print(g[(445025.89, 117244.56, 0.0)])\n",
    "# print(list(g.edges(data=True))[0])\n",
    "# print(roads_from_nodes.geometry)\n",
    "roads_from_nodes = mm.nx_to_gdf(g, points=False, lines=True, spatial_weights=False)\n",
    "import pygeos as pyg\n",
    "\n",
    "f, ax = plt.subplots()\n",
    "roads_from_nodes.plot(ax=ax)\n",
    "ax.set_xlim((440000, 440300))\n",
    "ax.set_ylim((113400, 113600))\n",
    "plt.show()\n",
    "\n",
    "roads_from_nodes = gpd.GeoDataFrame({\"geometry\": pyg.linestrings(list(g.edges()))})\n",
    "f, ax = plt.subplots()\n",
    "roads_from_nodes.plot(ax=ax)\n",
    "ax.set_xlim((440000, 440300))\n",
    "ax.set_ylim((113400, 113600))\n",
    "plt.show()\n",
    "# f, ax = plt.subplots()\n",
    "# for line in pyg.linestrings(list(g.edges())):\n",
    "#     ax.plot(*zip(*pyg.get_coordinates(line)))\n",
    "# roads_from_nodes.plot(ax=ax)\n",
    "# ax.set_xlim((440000, 441000))\n",
    "# ax.set_ylim((113000, 114000))\n",
    "# plt.show()"
   ]
  },
  {
   "cell_type": "code",
   "execution_count": null,
   "id": "0c2efd32",
   "metadata": {},
   "outputs": [],
   "source": [
    "\n"
   ]
  },
  {
   "cell_type": "code",
   "execution_count": null,
   "id": "1bd98289",
   "metadata": {},
   "outputs": [],
   "source": [
    "f, ax = plt.subplots()\n",
    "mm.remove_false_nodes(roads_from_nodes).plot(ax=ax)\n",
    "ax.set_xlim((440000, 441000))\n",
    "ax.set_ylim((113000, 114000))\n",
    "plt.show()"
   ]
  },
  {
   "cell_type": "code",
   "execution_count": null,
   "id": "1a36c7d0",
   "metadata": {},
   "outputs": [],
   "source": [
    "roads_path = r\"..\\tests\\data\\SU_open_roads_small.geojson\"\n",
    "roads = gpd.read_file(roads_path)\n",
    "roads = roads.explode().reset_index(drop=True)\n",
    "roads_simplified = mm.remove_false_nodes(roads)\n",
    "print(len(roads_simplified))\n",
    "print(len(roads))\n",
    "g = mm.gdf_to_nx(roads_simplified)\n",
    "lines = pyg.linestrings(list(g.edges()))\n",
    "roads_from_nodes = gpd.GeoDataFrame({\"geometry\": lines})"
   ]
  }
 ],
 "metadata": {
  "kernelspec": {
   "display_name": "Python 3 (ipykernel)",
   "language": "python",
   "name": "python3"
  },
  "language_info": {
   "codemirror_mode": {
    "name": "ipython",
    "version": 3
   },
   "file_extension": ".py",
   "mimetype": "text/x-python",
   "name": "python",
   "nbconvert_exporter": "python",
   "pygments_lexer": "ipython3",
   "version": "3.8.8"
  }
 },
 "nbformat": 4,
 "nbformat_minor": 5
}
