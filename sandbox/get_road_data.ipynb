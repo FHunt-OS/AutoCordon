{
 "cells": [
  {
   "cell_type": "code",
   "execution_count": null,
   "metadata": {},
   "outputs": [],
   "source": [
    "from os.path import join\n",
    "\n",
    "from os_paw.wfs_api import WFS_API\n",
    "import configparser\n",
    "import geopandas as gpd\n",
    "from pygeos.io import from_shapely\n",
    "import pickle as pkl\n",
    "\n",
    "import project_paths as paths"
   ]
  },
  {
   "cell_type": "code",
   "execution_count": null,
   "metadata": {},
   "outputs": [],
   "source": [
    "config = configparser.ConfigParser()\n",
    "config.read(paths.config_path)\n",
    "API_KEY = config['KEYS']['API_KEY']\n",
    "\n",
    "# Choose a Spatial Reference System\n",
    "SRS = 'EPSG:27700'\n",
    "\n",
    "# Choose an OS Web Feature Service product\n",
    "TYPE_NAME = 'Highways_RoadLink'\n",
    "\n",
    "# Create Bounding Box\n",
    "CENTRE_COORD = (441826, 112231)\n",
    "MARGIN = 500\n",
    "bbox = f\"{CENTRE_COORD[0] - MARGIN}, {CENTRE_COORD[1] - MARGIN}, {CENTRE_COORD[0] + MARGIN}, {CENTRE_COORD[1] + MARGIN}\"\n",
    "print(bbox)"
   ]
  },
  {
   "cell_type": "code",
   "execution_count": null,
   "metadata": {},
   "outputs": [],
   "source": [
    "# Create WFS_API object and run query\n",
    "wfs_api = WFS_API(api_key=API_KEY)\n",
    "payload = wfs_api.get_all_features_within_bbox(type_name=TYPE_NAME,\n",
    "                                               bbox=BBOX,\n",
    "                                               srs=SRS,\n",
    "                                               allow_premium=True)"
   ]
  },
  {
   "cell_type": "code",
   "execution_count": null,
   "metadata": {},
   "outputs": [],
   "source": [
    "roads = gpd.GeoDataFrame.from_features(payload[\"features\"], crs=SRS)"
   ]
  },
  {
   "cell_type": "code",
   "execution_count": null,
   "metadata": {},
   "outputs": [],
   "source": [
    "roads.plot()"
   ]
  },
  {
   "cell_type": "code",
   "execution_count": null,
   "metadata": {},
   "outputs": [],
   "source": [
    "roads.to_file(\"../tests/data/sample_roads_soton.geojson\", driver=\"GeoJSON\")"
   ]
  },
  {
   "cell_type": "code",
   "execution_count": null,
   "metadata": {},
   "outputs": [],
   "source": [
    "roads = gpd.read_file(r\"..\\tests\\data\\sample_roads_soton_centre.geojson\", driver=\"GeoJSON\")"
   ]
  },
  {
   "cell_type": "code",
   "execution_count": null,
   "metadata": {},
   "outputs": [],
   "source": [
    "roads = roads.explode().reset_index()\n",
    "geometries = list(roads.geometry)\n",
    "toids = list(roads[\"ID\"])\n",
    "sample_roads = {toid: list(geometry.coords) for toid, geometry in zip(toids, geometries)}\n",
    "with open(\"../tests/data/sample_roads.pickle\", 'wb') as file_name:\n",
    "    pkl.dump(sample_roads, file_name)\n"
   ]
  },
  {
   "cell_type": "code",
   "execution_count": null,
   "metadata": {},
   "outputs": [],
   "source": [
    "sample_roads"
   ]
  }
 ],
 "metadata": {
  "kernelspec": {
   "display_name": "Python 3",
   "language": "python",
   "name": "python3"
  },
  "language_info": {
   "codemirror_mode": {
    "name": "ipython",
    "version": 3
   },
   "file_extension": ".py",
   "mimetype": "text/x-python",
   "name": "python",
   "nbconvert_exporter": "python",
   "pygments_lexer": "ipython3",
   "version": "3.8.8"
  }
 },
 "nbformat": 4,
 "nbformat_minor": 2
}
