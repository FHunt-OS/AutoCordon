{
 "cells": [
  {
   "cell_type": "code",
   "execution_count": null,
   "id": "5c176789",
   "metadata": {},
   "outputs": [],
   "source": [
    "import pickle as pkl\n",
    "import geopandas as gpd\n",
    "import networkx as nx\n",
    "import pandas as pd\n",
    "import geopandas as gpd\n",
    "import matplotlib.pyplot as plt\n",
    "from pygeos.io import from_shapely"
   ]
  },
  {
   "cell_type": "code",
   "execution_count": null,
   "id": "c758af43",
   "metadata": {},
   "outputs": [],
   "source": [
    "subgraph_id = 1"
   ]
  },
  {
   "cell_type": "code",
   "execution_count": null,
   "id": "64d993ad",
   "metadata": {},
   "outputs": [],
   "source": [
    "subgraphs = pkl.load(open(\"../subgraphs.pkl\", \"rb\"))\n",
    "remaining_roads = pkl.load(open(\"../remaining_roads.pkl\", \"rb\"))\n",
    "remaining_roads_gdf = gpd.GeoDataFrame({\"geometry\": remaining_roads})"
   ]
  },
  {
   "cell_type": "code",
   "execution_count": null,
   "id": "c322d105",
   "metadata": {},
   "outputs": [],
   "source": [
    "subgraph = subgraphs[subgraph_id]\n",
    "df = pd.DataFrame.from_dict(dict(subgraph.nodes(data=True)), orient='index').reset_index()\n",
    "df[\"geometry\"] = df.index\n",
    "gdf = gpd.GeoDataFrame(df, geometry=\"index\")\n",
    "gdf.columns"
   ]
  },
  {
   "cell_type": "code",
   "execution_count": null,
   "id": "23a35f28",
   "metadata": {},
   "outputs": [],
   "source": [
    "axis_buffer = 10\n",
    "\n",
    "def get_ax(gdf):\n",
    "    f, ax = plt.subplots(figsize=[15, 15])\n",
    "    bounds = gdf.total_bounds\n",
    "    ax.set_xlim(bounds[0] - axis_buffer, bounds[2] + axis_buffer)\n",
    "    ax.set_ylim(bounds[1] - axis_buffer, bounds[3] + axis_buffer)\n",
    "    return f, ax"
   ]
  },
  {
   "cell_type": "code",
   "execution_count": null,
   "id": "a011f66c",
   "metadata": {},
   "outputs": [],
   "source": [
    "\n",
    "\n",
    "remaining_roads_gdf.plot(color=\"gray\", ax=ax)\n",
    "gdf.plot(color=\"green\", ax=ax)\n",
    "gdf.plot(\"interior_closure\", cmap=\"bwr_r\", ax=ax)\n",
    "gdf.plot(\"exterior_closure\", cmap=\"bwr\", ax=ax)"
   ]
  },
  {
   "cell_type": "code",
   "execution_count": null,
   "id": "102fdf8a",
   "metadata": {},
   "outputs": [],
   "source": [
    "sources = from_shapely(gdf[gdf['interior_closure'] == True].geometry)\n",
    "sinks = from_shapely(gdf[gdf['exterior_closure'] == True].geometry)\n",
    "centrality = nx.algorithms.centrality.betweenness_centrality_subset(subgraph, sources, sinks)\n",
    "betweeness = nx.algorithms.centrality.edge_current_flow_betweenness_centrality_subset(nx.to_undirected(subgraph), sources, sinks)\n",
    "from pygeos.creation import linestrings\n",
    "from pygeos.coordinates import get_coordinates\n",
    "from pygeos.geometry import get_point\n",
    "# print([linestrings(get_coordinates(coords)) for coords in list(betweeness.keys())])\n",
    "edges = [linestrings(get_coordinates(coords)) for coords in list(betweeness.keys())]\n",
    "betweeness_gdf = gpd.GeoDataFrame({\"geometry\": edges, \"betweeness\": betweeness.values()})\n",
    "print(betweeness_gdf)\n",
    "# centrality = nx.algorithms.cuts.cut_size(subgraph, sources, sinks)\n",
    "print(centrality)\n",
    "df = pd.DataFrame.from_dict(centrality, orient='index')\n",
    "print(df)\n",
    "df[\"geometry\"] = df.index\n",
    "centrality_gdf = gpd.GeoDataFrame(df)"
   ]
  },
  {
   "cell_type": "code",
   "execution_count": null,
   "id": "4969ca23",
   "metadata": {},
   "outputs": [],
   "source": [
    "f, ax = get_ax(centrality_gdf)\n",
    "remaining_roads_gdf.plot(color=\"gray\", ax=ax)\n",
    "centrality_gdf.plot(0, ax=ax)\n",
    "gdf.plot(\"interior_closure\", cmap=\"bwr_r\", ax=ax)\n",
    "gdf.plot(\"exterior_closure\", cmap=\"bwr\", ax=ax)\n"
   ]
  },
  {
   "cell_type": "code",
   "execution_count": null,
   "id": "eb42e26e",
   "metadata": {},
   "outputs": [],
   "source": [
    "f, ax = get_ax(centrality_gdf)\n",
    "remaining_roads_gdf.plot(color=\"gray\", ax=ax)\n",
    "betweeness_gdf.plot(\"betweeness\", ax=ax)\n",
    "gdf.plot(\"interior_closure\", cmap=\"bwr_r\", ax=ax)\n",
    "gdf.plot(\"exterior_closure\", cmap=\"bwr\", ax=ax)\n",
    "betweeness_gdf.set_index(\"geometry\", inplace=True)\n"
   ]
  },
  {
   "cell_type": "code",
   "execution_count": null,
   "id": "51713cca",
   "metadata": {},
   "outputs": [],
   "source": [
    "ud_subgraph = nx.Graph(nx.to_undirected(subgraph))\n",
    "max_edge = from_shapely(betweeness_gdf.idxmax())\n",
    "max_edge = get_point(max_edge[0], 0), get_point(max_edge[0], 1)\n",
    "ud_subgraph.remove_edge(*max_edge)\n",
    "betweeness = nx.algorithms.centrality.edge_current_flow_betweenness_centrality_subset(ud_subgraph, sources, sinks)\n",
    "# print([linestrings(get_coordinates(coords)) for coords in list(betweeness.keys())])\n",
    "edges = [linestrings(get_coordinates(coords)) for coords in list(betweeness.keys())]\n",
    "betweeness_gdf = gpd.GeoDataFrame({\"geometry\": edges, \"betweeness\": betweeness.values()})\n",
    "f, ax = get_ax(centrality_gdf)\n",
    "remaining_roads_gdf.plot(color=\"gray\", ax=ax)\n",
    "betweeness_gdf.plot(\"betweeness\", ax=ax)\n",
    "gdf.plot(\"interior_closure\", cmap=\"bwr_r\", ax=ax)\n",
    "gdf.plot(\"exterior_closure\", cmap=\"bwr\", ax=ax)\n",
    "betweeness_gdf.set_index(\"geometry\", inplace=True)"
   ]
  },
  {
   "cell_type": "code",
   "execution_count": null,
   "id": "b31a9038",
   "metadata": {},
   "outputs": [],
   "source": [
    "ud_subgraph = nx.Graph(nx.to_undirected(ud_subgraph))\n",
    "max_edge = from_shapely(betweeness_gdf.idxmax())\n",
    "print(type(max_edge[0]))\n",
    "max_edge = get_point(max_edge[0], 0), get_point(max_edge[0], 1)\n",
    "ud_subgraph.remove_edge(*max_edge)\n",
    "betweeness = nx.algorithms.centrality.edge_current_flow_betweenness_centrality_subset(ud_subgraph, sources, sinks)\n",
    "# print([linestrings(get_coordinates(coords)) for coords in list(betweeness.keys())])\n",
    "edges = [linestrings(get_coordinates(coords)) for coords in list(betweeness.keys())]\n",
    "betweeness_gdf = gpd.GeoDataFrame({\"geometry\": edges, \"betweeness\": betweeness.values()})\n",
    "print(betweeness_gdf)\n",
    "f, ax = get_ax(centrality_gdf)\n",
    "remaining_roads_gdf.plot(color=\"gray\", ax=ax)\n",
    "betweeness_gdf.plot(\"betweeness\", ax=ax)\n",
    "gdf.plot(\"interior_closure\", cmap=\"bwr_r\", ax=ax)\n",
    "gdf.plot(\"exterior_closure\", cmap=\"bwr\", ax=ax)\n",
    "betweeness_gdf.set_index(\"geometry\", inplace=True)"
   ]
  },
  {
   "cell_type": "code",
   "execution_count": null,
   "id": "1fcf7635",
   "metadata": {},
   "outputs": [],
   "source": [
    "subgraph_id_gen = (i for i in subgraphs.keys())"
   ]
  },
  {
   "cell_type": "code",
   "execution_count": null,
   "id": "64a79602",
   "metadata": {},
   "outputs": [],
   "source": [
    "# subgraph_id = next(subgraph_id_gen)\n",
    "subgraph = subgraphs[3]\n",
    "# print(subgraph_id)\n",
    "ud_subgraph = nx.Graph(nx.to_undirected(subgraph))\n",
    "sources = [node[0] for node in ud_subgraph.nodes(\"interior_closure\") if node[1]]\n",
    "sinks = [node[0] for node in ud_subgraph.nodes(\"exterior_closure\") if node[1]]\n",
    "betweeness = nx.algorithms.centrality.edge_current_flow_betweenness_centrality_subset(ud_subgraph, sources, sinks)\n",
    "removed_edges = []\n",
    "\n",
    "while any(set(sinks) < set(nx.bfs_tree(ud_subgraph, source).nodes()) for source in sources):\n",
    "    max_edge = max(betweeness.items(), key=operator.itemgetter(1))\n",
    "    ud_subgraph.remove_edge(*max_edge[0])\n",
    "    removed_edges.append(max_edge)\n",
    "    try:\n",
    "        betweeness = nx.algorithms.centrality.edge_current_flow_betweenness_centrality_subset(ud_subgraph, sources, sinks)\n",
    "    except:\n",
    "        break\n",
    "\n",
    "final_edges = [linestrings(get_coordinates(coords)) for coords in ud_subgraph.edges]\n",
    "starting_edges = [linestrings(get_coordinates(coords)) for coords in subgraph.edges]\n",
    "final_edges_gdf = gpd.GeoDataFrame({\"geometry\": final_edges})\n",
    "starting_edges_gdf = gpd.GeoDataFrame({\"geometry\": starting_edges})\n",
    "sources_gdf = gpd.GeoDataFrame({\"geometry\": sources})\n",
    "sinks_gdf = gpd.GeoDataFrame({\"geometry\": sinks})\n",
    "\n",
    "f, ax = get_ax(starting_edges_gdf)\n",
    "remaining_roads_gdf.plot(color=\"gray\", ax=ax)\n",
    "starting_edges_gdf.plot(ax=ax, color=\"r\")\n",
    "final_edges_gdf.plot(ax=ax)\n",
    "sources_gdf.plot(color=\"r\", ax=ax)\n",
    "sinks_gdf.plot(color=\"g\", ax=ax)"
   ]
  },
  {
   "cell_type": "code",
   "execution_count": null,
   "id": "929ce65b",
   "metadata": {},
   "outputs": [],
   "source": [
    "import operator\n",
    "\n",
    "max_edge = max(betweeness.items(), key=operator.itemgetter(1))"
   ]
  },
  {
   "cell_type": "code",
   "execution_count": null,
   "id": "4f6b5a1b",
   "metadata": {},
   "outputs": [],
   "source": [
    "def calculate_betweeness(graph, graph_holder, removed_edges):\n",
    "    sources = [node[0] for node in graph.nodes(\"interior_closure\") if node[1]]\n",
    "    sinks = [node[0] for node in graph.nodes(\"exterior_closure\") if node[1]]\n",
    "    if sources and sinks:\n",
    "        betweeness = nx.algorithms.centrality.edge_current_flow_betweenness_centrality_subset(graph, sources, sinks)\n",
    "        max_edge = max(betweeness.items(), key=operator.itemgetter(1))\n",
    "        graph.remove_edge(*max_edge[0])\n",
    "        removed_edges.append(max_edge)\n",
    "        if any(set(sinks) < set(nx.bfs_tree(graph, source).nodes()) for source in sources):\n",
    "            for component in nx.connected_components(graph):\n",
    "                graph_holder.append(graph)\n",
    "                return calculate_betweeness(graph.subgraph(list(component)).copy(), graph_holder, removed_edges)\n",
    "        else:\n",
    "            graph_holder.append(graph)\n",
    "            return graph, graph_holder, removed_edges\n",
    "    else:\n",
    "        return graph, graph_holder, removed_edges\n",
    "    \n",
    "    \n",
    "# def find_max_edge()\n",
    "#     betweeness = nx.algorithms.centrality.edge_current_flow_betweenness_centrality_subset(graph, sources, sinks)\n",
    "#     max_edge = max(betweeness.items(), key=operator.itemgetter(1))"
   ]
  },
  {
   "cell_type": "code",
   "execution_count": null,
   "id": "9cbd4922",
   "metadata": {},
   "outputs": [],
   "source": [
    "from collections import deque\n",
    "\n",
    "\n",
    "def get_disconnected_edges(graph):\n",
    "    graph_deque = deque([graph.copy()])\n",
    "    disconnected = []\n",
    "    while len(graph_deque):\n",
    "        g = graph_deque.pop()\n",
    "        sources = [node[0] for node in g.nodes(\"interior_closure\") if node[1]]\n",
    "        sinks = [node[0] for node in g.nodes(\"exterior_closure\") if node[1]]\n",
    "        if sources and sinks:\n",
    "            betweeness = nx.algorithms.centrality.edge_current_flow_betweenness_centrality_subset(g, sources, sinks)\n",
    "            max_edge = max(betweeness.items(), key=operator.itemgetter(1))\n",
    "            g.remove_edge(*max_edge[0])\n",
    "            reachable = []\n",
    "            for source in sources:\n",
    "                reachable.extend(nx.dfs_tree(g, source).nodes())\n",
    "            if set(sinks).intersection(set(reachable)):\n",
    "                for component in nx.connected_components(g):\n",
    "                    graph_deque.append(g.subgraph(list(component)).copy())\n",
    "            else:\n",
    "                disconnected.extend(g.edges)\n",
    "        else:\n",
    "            disconnected.extend(g.edges)\n",
    "#     return disconnected"
   ]
  },
  {
   "cell_type": "code",
   "execution_count": null,
   "id": "6efdee14",
   "metadata": {},
   "outputs": [],
   "source": [
    "subgraph_id_gen = (i for i in subgraphs.keys())"
   ]
  },
  {
   "cell_type": "code",
   "execution_count": null,
   "id": "79c66cc9",
   "metadata": {},
   "outputs": [],
   "source": [
    "# from AutoCordon.prune_edges import get_disconnected_edges\n",
    "\n",
    "subgraphs = pkl.load(open(\"../subgraphs.pkl\", \"rb\"))\n",
    "remaining_roads = pkl.load(open(\"../remaining_roads.pkl\", \"rb\"))\n",
    "remaining_roads_gdf = gpd.GeoDataFrame({\"geometry\": remaining_roads})\n",
    "for subgraph_id in subgraphs:\n",
    "    graph = nx.Graph(nx.to_undirected(subgraphs[subgraph_id]))\n",
    "    sources = [node[0] for node in graph.nodes(\"interior_closure\") if node[1]]\n",
    "    sinks = [node[0] for node in graph.nodes(\"exterior_closure\") if node[1]]\n",
    "    sources_gdf = gpd.GeoDataFrame({\"geometry\": sources})\n",
    "    sinks_gdf = gpd.GeoDataFrame({\"geometry\": sinks})\n",
    "    starting_edges = [linestrings(get_coordinates(coords)) for coords in graph.edges]\n",
    "    starting_edges_gdf = gpd.GeoDataFrame({\"geometry\": starting_edges})\n",
    "    \n",
    "    f, ax = get_ax(starting_edges_gdf)\n",
    "    remaining_roads_gdf.plot(color=\"gray\", ax=ax)\n",
    "    starting_edges_gdf.plot(ax=ax, color=\"r\")\n",
    "    sources_gdf.plot(color=\"r\", ax=ax)\n",
    "    sinks_gdf.plot(color=\"g\", ax=ax)\n",
    "    ax.set_title(subgraph_id)\n",
    "    \n",
    "#     try:\n",
    "    disconnected = get_disconnected_edges(graph)\n",
    "    final_edges = [linestrings(get_coordinates(coords)) for coords in disconnected]\n",
    "    final_edges_gdf = gpd.GeoDataFrame({\"geometry\": final_edges})\n",
    "    final_edges_gdf.plot(ax=ax)\n",
    "#     except:\n",
    "#         print(f\"skipping subgraph {subgraph_id}\")\n",
    "    plt.show()\n",
    "    "
   ]
  },
  {
   "cell_type": "code",
   "execution_count": null,
   "id": "83f79915",
   "metadata": {},
   "outputs": [],
   "source": []
  },
  {
   "cell_type": "code",
   "execution_count": null,
   "id": "bfabca83",
   "metadata": {},
   "outputs": [],
   "source": []
  }
 ],
 "metadata": {
  "kernelspec": {
   "display_name": "Python 3",
   "language": "python",
   "name": "python3"
  },
  "language_info": {
   "codemirror_mode": {
    "name": "ipython",
    "version": 3
   },
   "file_extension": ".py",
   "mimetype": "text/x-python",
   "name": "python",
   "nbconvert_exporter": "python",
   "pygments_lexer": "ipython3",
   "version": "3.8.8"
  }
 },
 "nbformat": 4,
 "nbformat_minor": 5
}
