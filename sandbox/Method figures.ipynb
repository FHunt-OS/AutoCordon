{
 "cells": [
  {
   "cell_type": "code",
   "execution_count": null,
   "id": "52a39d01",
   "metadata": {},
   "outputs": [],
   "source": [
    "import geopandas as gpd\n",
    "import momepy as mm\n",
    "import matplotlib.pyplot as plt\n",
    "import requests\n",
    "import pygeos as pyg\n",
    "import momepy as mm\n",
    "from networkx.algorithms.centrality import betweenness_centrality_subset\n",
    "import numpy as np"
   ]
  },
  {
   "cell_type": "code",
   "execution_count": null,
   "id": "afc07338",
   "metadata": {},
   "outputs": [],
   "source": [
    "from AutoCordon.manipulate_geometries import overlay_gdf_with_geom"
   ]
  },
  {
   "cell_type": "code",
   "execution_count": null,
   "id": "865c887b",
   "metadata": {},
   "outputs": [],
   "source": [
    "roads_path = r\"..\\tests\\data\\SU_open_roads_small.geojson\"\n",
    "roads = gpd.read_file(roads_path)\n",
    "roads = roads.explode().reset_index(drop=True)\n",
    "# roads_simplified = mm.remove_false_nodes(roads)"
   ]
  },
  {
   "cell_type": "code",
   "execution_count": null,
   "id": "3f1720a5",
   "metadata": {},
   "outputs": [],
   "source": [
    "centre_ll = (-1.406425284433567, 50.91263710769894)\n",
    "distance = 170\n",
    "distance_max = 320"
   ]
  },
  {
   "cell_type": "code",
   "execution_count": null,
   "id": "27f30641",
   "metadata": {},
   "outputs": [],
   "source": [
    "coords_api = fr\"http://webapps.bgs.ac.uk/data/webservices/CoordConvert_LL_BNG.cfc?method=LatLongToBNG&lat={centre_ll[1]}&lon={centre_ll[0]}\"\n",
    "response = requests.get(coords_api).json()\n",
    "centre = (response[\"EASTING\"], response[\"NORTHING\"])"
   ]
  },
  {
   "cell_type": "code",
   "execution_count": null,
   "id": "fe1e8d96",
   "metadata": {},
   "outputs": [],
   "source": [
    "point = pyg.points(centre)\n",
    "\n",
    "hole = pyg.buffer(point, distance)\n",
    "hole_ring = pyg.get_exterior_ring(hole)\n",
    "\n",
    "shell = pyg.buffer(point, distance_max)\n",
    "shell_ring = pyg.get_exterior_ring(shell)\n",
    "\n",
    "shell_points = overlay_gdf_with_geom(roads, shell_ring)\n",
    "max_nodes = list(zip(shell_points.geometry.x, shell_points.geometry.y))\n",
    "\n",
    "hole_points = overlay_gdf_with_geom(roads, hole_ring)\n",
    "inner_nodes = list(zip(hole_points.geometry.x, hole_points.geometry.y))\n",
    "\n",
    "donut = pyg.polygons(shell_ring, holes=[hole_ring])\n",
    "donut_roads = overlay_gdf_with_geom(roads, donut)\n",
    "# donut_roads_simplified = mm.remove_false_nodes(donut_roads)\n",
    "\n",
    "graph = mm.gdf_to_nx(donut_roads)"
   ]
  },
  {
   "cell_type": "code",
   "execution_count": null,
   "id": "18319201",
   "metadata": {},
   "outputs": [],
   "source": [
    "donut_roads = overlay_gdf_with_geom(roads, donut)\n",
    "hole_roads = overlay_gdf_with_geom(roads, hole)\n",
    "# graph = mm.gdf_to_nx(roads_circle)\n",
    "# n = (n for n in range(len(graph.nodes)))\n",
    "# node_list = list(graph.nodes)"
   ]
  },
  {
   "cell_type": "code",
   "execution_count": null,
   "id": "4cc3871b",
   "metadata": {},
   "outputs": [],
   "source": [
    "# f, ax =  plt.subplots(figsize=(15, 15))\n",
    "# roads_circle.plot(ax=ax)\n",
    "# node = node_list[next(n)]\n",
    "# ax.scatter(*node[:2], color=\"r\")\n",
    "# print(node)"
   ]
  },
  {
   "cell_type": "code",
   "execution_count": null,
   "id": "6ba7a596",
   "metadata": {},
   "outputs": [],
   "source": [
    "centre_node = (441823.0, 112745.0, 0.0)\n",
    "shell_nodes = list(zip(shell_points.geometry.x, shell_points.geometry.y, [0.0] * len(shell_points)))\n",
    "hole_nodes = list(zip(hole_points.geometry.x, hole_points.geometry.y, [0.0] * len(hole_points)))\n",
    "\n",
    "hole_gdf = gpd.GeoDataFrame({\"geometry\": [hole], \"id\": [\"id1\"]})\n",
    "shell_gdf = gpd.GeoDataFrame({\"geometry\": [shell], \"id\": [\"id1\"]})\n",
    "\n",
    "axis_buffer = distance_max + 20\n",
    "xlim = (centre[0] - axis_buffer, centre[0] + axis_buffer)\n",
    "ylim = (centre[1] - axis_buffer, centre[1] + axis_buffer)"
   ]
  },
  {
   "cell_type": "code",
   "execution_count": null,
   "id": "f5a4b232",
   "metadata": {},
   "outputs": [],
   "source": [
    "graph = mm.gdf_to_nx(donut_roads)\n",
    "\n",
    "removals = []\n",
    "for i in range(9):\n",
    "    f, ax = plt.subplots(1, 2, figsize=(15, 10), sharex=True, sharey=True)\n",
    "    \n",
    "    betweeness = betweenness_centrality_subset(graph, hole_nodes, shell_nodes)\n",
    "#     betweeness = {node: betweeness[node] for node in graph.nodes}\n",
    "    max_node, max_betweeness = max(list(betweeness.items()), key=lambda x: x[1])\n",
    "    \n",
    "    betweeness_values = [(key[0], key[1], value) for key, value in betweeness.items()]\n",
    "    betweeness_values = sorted(betweeness_values, key=lambda x: x[2])\n",
    "    x, y, c = zip(*betweeness_values)\n",
    "    \n",
    "    for a in ax:\n",
    "        roads.plot(ax=a, color=\"lightgrey\", zorder=1)\n",
    "        shell_gdf.plot(ax=a, color=\"#a09ad5\", alpha=0.2, zorder=2)\n",
    "        hole_gdf.plot(ax=a, color=\"#D40058\", alpha=0.2, zorder=3)\n",
    "        hole_roads.plot(ax=a, color=\"#D40058\", alpha=0.4, zorder=4)\n",
    "        a.set_xlim(xlim)\n",
    "        a.set_ylim(ylim)\n",
    "    donut_roads.plot(ax=ax[0], color=\"white\", zorder=5)\n",
    "    donut_roads.plot(ax=ax[1], color=\"#7B73C4\", zorder=5)\n",
    "    \n",
    "    mm.nx_to_gdf(graph, points=False).plot(ax=ax[0], color=\"#7B73C4\", zorder=6)\n",
    "    if max_betweeness:\n",
    "        removals.append(max_node[:2])\n",
    "        c = ax[0].scatter(x, y, c=c, s=[cc/max(c)*80 for cc in c], cmap=\"RdPu\", zorder=7)\n",
    "        ax[1].scatter(max_node[0], max_node[1], s=150, c=\"#D40058\", zorder=7)\n",
    "    \n",
    "    ax[1].scatter(*zip(*removals), s=50, c=\"#D40058\", zorder=6)\n",
    "    ax[0].set_title(\"Betweenness Centrality\")\n",
    "    ax[1].set_title(\"Closures\")\n",
    "    \n",
    "#     if not len([b for b in betweeness.values() if b > 0]):\n",
    "#     break\n",
    "\n",
    "    graph.remove_node(max_node)\n",
    "    plt.savefig(f\"fig_{i}.png\")\n",
    "#     plt.show()"
   ]
  },
  {
   "cell_type": "code",
   "execution_count": null,
   "id": "f3676be2",
   "metadata": {},
   "outputs": [],
   "source": [
    "f, ax = plt.subplots(1, 2, figsize=(15, 10), sharex=True, sharey=True)\n",
    "roads.plot(ax=ax[0], color=\"lightgrey\", zorder=1)\n",
    "shell_gdf.plot(ax=ax[0], color=\"#a09ad5\", alpha=0.2, zorder=1)\n",
    "hole_gdf.plot(ax=ax[0], color=\"#D40058\", alpha=0.2, zorder=1)\n",
    "hole_roads.plot(ax=ax[0], color=\"#D40058\", alpha=0.4, zorder=1)\n",
    "donut_roads.plot(ax=ax[0], color=\"#7B73C4\")\n",
    "ax[0].scatter(centre[0], centre[1], c=\"#D40058\", s=100, zorder=2)\n",
    "ax[0].set_xlim(xlim)\n",
    "ax[0].set_ylim(ylim)\n",
    "plt.savefig(f\"fig_empty.png\")\n",
    "\n",
    "f, ax = plt.subplots(1, 2, figsize=(15, 10), sharex=True, sharey=True)\n",
    "roads.plot(ax=ax[0], color=\"lightgrey\", zorder=1)\n",
    "shell_gdf.plot(ax=ax[0], color=\"#a09ad5\", alpha=0.2, zorder=1)\n",
    "hole_gdf.plot(ax=ax[0], color=\"#D40058\", alpha=0.2, zorder=1)\n",
    "hole_roads.plot(ax=ax[0], color=\"#D40058\", alpha=0.4, zorder=1)\n",
    "donut_roads.plot(ax=ax[0], color=\"#7B73C4\", zorder=1)\n",
    "hole_points.plot(ax=ax[0], color=\"#D40058\", zorder=2)\n",
    "shell_points.plot(ax=ax[0], color=\"#7B73C4\", zorder=2)\n",
    "ax[0].scatter(centre[0], centre[1], c=\"#D40058\", s=200, zorder=2)\n",
    "ax[0].set_xlim(xlim)\n",
    "ax[0].set_ylim(ylim)\n",
    "plt.savefig(f\"fig_nodes.png\")"
   ]
  },
  {
   "cell_type": "code",
   "execution_count": null,
   "id": "b7dfcdbe",
   "metadata": {},
   "outputs": [],
   "source": []
  },
  {
   "cell_type": "code",
   "execution_count": null,
   "id": "7650f82b",
   "metadata": {},
   "outputs": [],
   "source": []
  }
 ],
 "metadata": {
  "kernelspec": {
   "display_name": "Python 3 (ipykernel)",
   "language": "python",
   "name": "python3"
  },
  "language_info": {
   "codemirror_mode": {
    "name": "ipython",
    "version": 3
   },
   "file_extension": ".py",
   "mimetype": "text/x-python",
   "name": "python",
   "nbconvert_exporter": "python",
   "pygments_lexer": "ipython3",
   "version": "3.8.8"
  }
 },
 "nbformat": 4,
 "nbformat_minor": 5
}
