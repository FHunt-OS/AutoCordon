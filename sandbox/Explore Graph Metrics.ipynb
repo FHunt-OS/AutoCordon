{
 "cells": [
  {
   "cell_type": "code",
   "execution_count": null,
   "id": "001d4cbc",
   "metadata": {},
   "outputs": [],
   "source": [
    "import matplotlib.pyplot as plt\n",
    "import geopandas as gpd\n",
    "from AutoCordon.cordon import get_road_closure_locations, split_roads_with_cordon, remove_roads_within_cordon, extract_closure_candidates\n",
    "from AutoCordon.buffer_zone import BufferZone\n",
    "from pygeos.geometry import get_x, get_y\n",
    "from pygeos.io import from_shapely\n",
    "from pygeos.predicates import equals\n",
    "import momepy\n",
    "import networkx as nx"
   ]
  },
  {
   "cell_type": "code",
   "execution_count": null,
   "id": "a95c3a2d",
   "metadata": {},
   "outputs": [],
   "source": [
    "roads = gpd.read_file(r\"..\\tests\\data\\sample_roads_soton_centre.geojson\").explode().reset_index(drop=True)\n",
    "road_lines = from_shapely(roads.geometry)"
   ]
  },
  {
   "cell_type": "code",
   "execution_count": null,
   "id": "790a0324",
   "metadata": {},
   "outputs": [],
   "source": [
    "remaining_roads\n",
    "distance = 550\n",
    "distance_max = 750\n",
    "closure_locations = get_road_closure_locations(centre, distance, road_lines)\n",
    "split_roads = split_roads_with_cordon(centre, distance, road_lines)\n",
    "new_lines = [road for road in split_roads if not equals(road, road_lines).any()]\n",
    "new_lines_gdf = gpd.GeoDataFrame({\"geometry\": new_lines, \"id\": range(len(new_lines))})\n",
    "# remaining_roads = extract_closure_candidates(centre, distance, distance_max, road_lines)\n",
    "# remaining_roads = remove_roads_within_cordon(centre, distance, road_lines)\n",
    "remaining_roads_gdf = gpd.GeoDataFrame({\"geometry\": remaining_roads, \"id\": range(len(remaining_roads))}).explode().reset_index()"
   ]
  },
  {
   "cell_type": "code",
   "execution_count": null,
   "id": "25dd61c8",
   "metadata": {},
   "outputs": [],
   "source": [
    "remaining_roads_gdf"
   ]
  },
  {
   "cell_type": "code",
   "execution_count": null,
   "id": "f555f953",
   "metadata": {},
   "outputs": [],
   "source": [
    "fig, ax = plt.subplots(figsize=[15, 15])\n",
    "roads.plot(ax=ax, color=\"grey\")\n",
    "remaining_roads_gdf.plot(color=\"r\", ax=ax)\n",
    "ax.scatter(get_x(closure_locations), get_y(closure_locations), color='y')\n",
    "ax.scatter(*centre, color='g')\n",
    "plt.show()"
   ]
  },
  {
   "cell_type": "code",
   "execution_count": null,
   "id": "ea620937",
   "metadata": {},
   "outputs": [],
   "source": [
    "bz = BufferZone(centre, distance, distance_max)\n",
    "remaining_roads = bz.get_intersecting_lines(road_lines)\n",
    "interior_closure_points = bz.get_intersecting_perimeter_points(\"interior\", road_lines)\n",
    "exterior_closure_points = bz.get_intersecting_perimeter_points(\"exterior\", road_lines)\n",
    "remaining_roads_gdf = gpd.GeoDataFrame({\"geometry\": remaining_roads, \"id\": range(len(remaining_roads))})\n",
    "\n",
    "fig, ax = plt.subplots(figsize=[15, 15])\n",
    "roads.plot(ax=ax, color=\"grey\")\n",
    "remaining_roads_gdf.plot(color=\"r\", ax=ax)\n",
    "ax.scatter(get_x(interior_closure_points), get_y(interior_closure_points), color='blueviolet')\n",
    "ax.scatter(get_x(exterior_closure_points), get_y(exterior_closure_points), color='c')\n",
    "ax.scatter(*centre, color='lime')\n",
    "plt.show()"
   ]
  },
  {
   "cell_type": "code",
   "execution_count": null,
   "id": "274515b8",
   "metadata": {},
   "outputs": [],
   "source": []
  },
  {
   "cell_type": "code",
   "execution_count": null,
   "id": "1350fd78",
   "metadata": {},
   "outputs": [],
   "source": [
    "# split_roads_gdf = gpd.GeoDataFrame({\"geometry\": split_roads, \"id\": range(len(split_roads))})\n",
    "graph = momepy.gdf_to_nx(remaining_roads_gdf.explode().reset_index(drop=True))"
   ]
  },
  {
   "cell_type": "code",
   "execution_count": null,
   "id": "65b2f875",
   "metadata": {},
   "outputs": [],
   "source": [
    "nodes, edges, sw = momepy.nx_to_gdf(graph, points=True, lines=True,\n",
    "                                    spatial_weights=True)\n",
    "nodes\n",
    "sw"
   ]
  },
  {
   "cell_type": "code",
   "execution_count": null,
   "id": "98af2a45",
   "metadata": {},
   "outputs": [],
   "source": [
    "import networkx as nx "
   ]
  },
  {
   "cell_type": "code",
   "execution_count": null,
   "id": "aa1dd0eb",
   "metadata": {},
   "outputs": [],
   "source": [
    "graph.nodes"
   ]
  },
  {
   "cell_type": "raw",
   "id": "906147ea",
   "metadata": {},
   "source": []
  },
  {
   "cell_type": "code",
   "execution_count": null,
   "id": "01a6c360",
   "metadata": {},
   "outputs": [],
   "source": [
    "source = (442745.0, 111065.0)\n",
    "target = (441391.415, 111891.2990000006)\n",
    "paths = [p for p in nx.all_shortest_paths(graph, source=source, target=target)]\n",
    "x, y = zip(*paths[0])"
   ]
  },
  {
   "cell_type": "code",
   "execution_count": null,
   "id": "5f28669d",
   "metadata": {},
   "outputs": [],
   "source": [
    "fig, ax = plt.subplots(figsize=[15, 15])\n",
    "# roads.plot(ax=ax)\n",
    "remaining_roads_gdf.plot(ax=ax)\n",
    "# new_lines_gdf.plot(color=\"r\", ax=ax)\n",
    "ax.scatter(x, y, color='r')\n",
    "ax.scatter(*centre, color='g')\n",
    "ax.scatter(*source, color='g')\n",
    "ax.scatter(*target, color='g')\n",
    "plt.show()"
   ]
  },
  {
   "cell_type": "code",
   "execution_count": null,
   "id": "8de0dc79",
   "metadata": {},
   "outputs": [],
   "source": [
    "import networkx as nx\n",
    "import momepy\n",
    "\n",
    "load_centrality = nx.load_centrality(graph)"
   ]
  },
  {
   "cell_type": "code",
   "execution_count": null,
   "id": "711bee69",
   "metadata": {},
   "outputs": [],
   "source": [
    "fig, ax = plt.subplots(figsize=[15, 15])\n",
    "load_centrality_gdf = gpd.GeoDataFrame({\"geometry\": gpd.points_from_xy(*zip(*load_centrality)),\n",
    "                                        \"load_centrality\": load_centrality.values()})\n",
    "remaining_roads_gdf.plot(color=\"grey\", ax=ax)\n",
    "load_centrality_gdf.plot(\"load_centrality\", ax=ax)"
   ]
  },
  {
   "cell_type": "code",
   "execution_count": null,
   "id": "ee1cb63f",
   "metadata": {},
   "outputs": [],
   "source": [
    "components = nx.connected_components(graph)\n",
    "# list(nx.connected_components(graph.subgraph(component)))\n",
    "node_list = []\n",
    "nc_list = []\n",
    "for component in components:\n",
    "    centrality = nx.degree_centrality(nx.Graph(graph.subgraph(component).edges()))\n",
    "    min_c = min(centrality.values())\n",
    "    max_c = max(centrality.values())\n",
    "    if max_c == 0:\n",
    "        continue\n",
    "    nc_list.extend([c / max_c for c in centrality.values()])\n",
    "#     nc_list.extend(centrality.values())\n",
    "    node_list.extend(centrality.keys())\n",
    "fig, ax = plt.subplots(figsize=[15, 15])\n",
    "norm_centrality_gdf = gpd.GeoDataFrame({\"geometry\": gpd.points_from_xy(*zip(*node_list)),\n",
    "                                        \"centrality\": nc_list})\n",
    "remaining_roads_gdf.plot(color=\"grey\", ax=ax)\n",
    "norm_centrality_gdf.plot(\"centrality\", ax=ax, legend=True)"
   ]
  },
  {
   "cell_type": "code",
   "execution_count": null,
   "id": "882e18e1",
   "metadata": {},
   "outputs": [],
   "source": [
    "coords = []\n",
    "component_id = []\n",
    "for n, component in enumerate(nx.connected_components(graph)):\n",
    "    coords.extend(gpd.points_from_xy(*zip(*component)))\n",
    "    component_id.extend([n] * len(component)) \n",
    "\n",
    "fig, ax = plt.subplots(figsize=[15, 15])\n",
    "remaining_roads_gdf.plot(color=\"grey\", ax=ax)\n",
    "components_gdf = gpd.GeoDataFrame({\"geometry\": coords, \"component_id\": component_id})\n",
    "components_gdf.plot(\"component_id\", ax=ax, cmap=\"tab20\")\n",
    "ax.scatter(get_x(interior_closure_points), get_y(interior_closure_points), color='r')\n",
    "ax.scatter(get_x(exterior_closure_points), get_y(exterior_closure_points), color='g')\n"
   ]
  },
  {
   "cell_type": "code",
   "execution_count": null,
   "id": "b0262b1c",
   "metadata": {},
   "outputs": [],
   "source": [
    "components = list(nx.connected_components(graph))\n",
    "\n",
    "component_id = 6\n",
    "subgraph_gdf = components_gdf[components_gdf[\"component_id\"] == component_id]\n",
    "print(components[component_id])\n",
    "axis_buffer = 50\n",
    "fig, ax = plt.subplots(figsize=[15, 15])\n",
    "remaining_roads_gdf.plot(color=\"grey\", ax=ax)\n",
    "subgraph_gdf.plot(\"component_id\", ax=ax, color=\"c\")\n",
    "ax.scatter(get_x(interior_closure_points), get_y(interior_closure_points), color='r')\n",
    "ax.scatter(get_x(exterior_closure_points), get_y(exterior_closure_points), color='r')\n",
    "subgraph_bounds = subgraph_gdf.total_bounds\n",
    "ax.set_xlim(subgraph_bounds[0] - axis_buffer, subgraph_bounds[2] + axis_buffer)\n",
    "ax.set_ylim(subgraph_bounds[1] - axis_buffer, subgraph_bounds[3] + axis_buffer)\n",
    "plt.show()"
   ]
  },
  {
   "cell_type": "code",
   "execution_count": null,
   "id": "0b5545fb",
   "metadata": {},
   "outputs": [],
   "source": [
    "from pygeos.coordinates import get_coordinates\n",
    "from networkx.algorithms.connectivity import minimum_st_node_cut\n",
    "\n",
    "interior_closure_coords = {(x, y) for x,y in get_coordinates(interior_closure_points)}\n",
    "exterior_closure_coords = {(x, y) for x,y in get_coordinates(exterior_closure_points)}\n",
    "\n",
    "interior_nodes = list(components[component_id].intersection(interior_closure_coords))\n",
    "exterior_nodes = list(components[component_id].intersection(exterior_closure_coords))\n",
    "\n",
    "min_cut = nx.node_disjoint_paths(graph.subgraph(components[component_id]), interior_nodes[0], exterior_nodes[1])\n",
    "for n, cut in enumerate(min_cut):\n",
    "    print(n)\n",
    "    print(cut)"
   ]
  },
  {
   "cell_type": "code",
   "execution_count": null,
   "id": "450c671b",
   "metadata": {},
   "outputs": [],
   "source": [
    "fig, ax = plt.subplots(figsize=[15, 15])\n",
    "remaining_roads_gdf.plot(color=\"grey\", ax=ax)\n",
    "subgraph_gdf.plot( ax=ax, color=\"lightsteelblue\")\n",
    "ax.scatter(get_x(interior_closure_points), get_y(interior_closure_points), color='orange')\n",
    "ax.scatter(get_x(exterior_closure_points), get_y(exterior_closure_points), color='orange')\n",
    "subgraph_bounds = subgraph_gdf.total_bounds\n",
    "ax.set_xlim(subgraph_bounds[0] - axis_buffer, subgraph_bounds[2] + axis_buffer)\n",
    "ax.set_ylim(subgraph_bounds[1] - axis_buffer, subgraph_bounds[3] + axis_buffer)\n",
    "ax.scatter(*zip(*min_cut[0]), color='lime')\n",
    "ax.scatter(*interior_nodes[0], color='r')\n",
    "ax.scatter(*exterior_nodes[0], color='r')\n",
    "plt.show()"
   ]
  },
  {
   "cell_type": "code",
   "execution_count": null,
   "id": "e7526114",
   "metadata": {},
   "outputs": [],
   "source": [
    "# from networkx.algorithms import approximation as apxa\n",
    "components = list(nx.connected_components(graph))\n",
    "\n",
    "component_id = 6\n",
    "# k_comps = apxa.steiner_tree((nx.Graph(graph.subgraph(components[component_id]).edges())), list(interior_closure_coords) + list(exterior_closure_coords))\n",
    "# print(k_comps)\n",
    "# bridges = nx.bridges(nx.Graph(graph.subgraph(components[component_id])))\n",
    "# nodes1, nodes2 = zip(*list(bridges))\n",
    "# bridge_nodes = nodes1 + nodes2\n",
    "# nx.draw(nx.Graph(nx.bridges(graph.subgraph(components[component_id]))))\n",
    "subgraph = graph.subgraph(components[component_id])\n",
    "# contracted_graph = nx.contracted_nodes(subgraph, interior_nodes[0], interior_nodes[1])\n",
    "middle_nodes = set(subgraph.nodes()).difference(set(interior_nodes + exterior_nodes))\n",
    "M = nx.all_pairs_node_connectivity(subgraph, interior_nodes + exterior_nodes)\n",
    "print(M)\n",
    "m_nodes = [list(node) for node in M.nodes]\n",
    "fig, ax = plt.subplots(figsize=[15, 15])\n",
    "ax.scatter(*zip(*subgraph.nodes()), color=\"red\")\n",
    "for line in subgraph.edges():\n",
    "    ax.plot(*(zip(*line)), color=\"grey\")\n",
    "for m_node in m_nodes:\n",
    "    print(*zip(*m_node))\n",
    "    ax.scatter(*zip(*m_node))\n",
    "for line in M.edges():\n",
    "    ax.plot(*(zip(*line)), color=\"orange\")\n",
    "\n",
    "# nx.draw(M)"
   ]
  },
  {
   "cell_type": "code",
   "execution_count": null,
   "id": "26807828",
   "metadata": {},
   "outputs": [],
   "source": [
    "fig, ax = plt.subplots(figsize=[15, 15])\n",
    "remaining_roads_gdf.plot(color=\"grey\", ax=ax)\n",
    "subgraph_gdf.plot( ax=ax, color=\"lightsteelblue\")\n",
    "ax.scatter(get_x(interior_closure_points), get_y(interior_closure_points), color='orange')\n",
    "ax.scatter(get_x(exterior_closure_points), get_y(exterior_closure_points), color='orange')\n",
    "subgraph_bounds = subgraph_gdf.total_bounds\n",
    "ax.set_xlim(subgraph_bounds[0] - axis_buffer, subgraph_bounds[2] + axis_buffer)\n",
    "ax.set_ylim(subgraph_bounds[1] - axis_buffer, subgraph_bounds[3] + axis_buffer)\n",
    "ax.scatter(*zip(*bridge_nodes), color='lime')\n",
    "ax.scatter(*interior_nodes[0], color='r')\n",
    "ax.scatter(*exterior_nodes[0], color='r')\n",
    "plt.show()"
   ]
  },
  {
   "cell_type": "code",
   "execution_count": null,
   "id": "d3ed8cef",
   "metadata": {},
   "outputs": [],
   "source": [
    "graph_degree = momepy.node_degree(subgraph)\n",
    "graph_degree.nodes[(442436.0, 111548.0)]['degree']\n",
    "degree_subgraph = momepy.nx_to_gdf(graph_degree)\n"
   ]
  },
  {
   "cell_type": "code",
   "execution_count": null,
   "id": "dbe48cdb",
   "metadata": {},
   "outputs": [],
   "source": [
    "from pygeos.measurement import distance\n",
    "from pygeos.creation import points\n",
    "from pygeos.io import from_shapely\n",
    "\n",
    "degree_subgraph[0]['dist_to_centre'] = distance(from_shapely(degree_subgraph[0].geometry), points(centre))\n",
    "degree_subgraph"
   ]
  },
  {
   "cell_type": "code",
   "execution_count": null,
   "id": "214cee01",
   "metadata": {},
   "outputs": [],
   "source": [
    "# find the degree of all the interior closure nodes\n",
    "\n",
    "# find their next neighbour, +1 for closures behind that node\n",
    "\n",
    "# would be easier if was directed"
   ]
  },
  {
   "cell_type": "code",
   "execution_count": null,
   "id": "9b0fad84",
   "metadata": {},
   "outputs": [],
   "source": [
    "fig, ax = plt.subplots(figsize=[15, 15])\n",
    "remaining_roads_gdf.plot(color=\"grey\", ax=ax)\n",
    "degree_subgraph[0].plot('degree', ax=ax)\n",
    "subgraph_bounds = degree_subgraph[0].total_bounds\n",
    "ax.set_xlim(subgraph_bounds[0] - axis_buffer, subgraph_bounds[2] + axis_buffer)\n",
    "ax.set_ylim(subgraph_bounds[1] - axis_buffer, subgraph_bounds[3] + axis_buffer)"
   ]
  },
  {
   "cell_type": "code",
   "execution_count": null,
   "id": "299d67fa",
   "metadata": {},
   "outputs": [],
   "source": [
    "a, b = zip(*list(subgraph.degree))\n",
    "print(a, b)"
   ]
  },
  {
   "cell_type": "code",
   "execution_count": null,
   "id": "5f137607",
   "metadata": {},
   "outputs": [],
   "source": [
    "from AutoCordon.cordon_graph import make_buffer_zone_graph\n",
    "from AutoCordon.buffer_zone import BufferZone\n",
    "from pygeos.io import from_shapely\n",
    "import geopandas as gpd\n",
    "\n",
    "roads = gpd.read_file(r\"..\\tests\\data\\sample_roads_soton_centre.geojson\").explode().reset_index(drop=True)\n",
    "road_lines = from_shapely(roads.geometry)\n",
    "distance = 550\n",
    "distance_max = 750\n",
    "centre = (442000, 112000)\n",
    "\n",
    "bz = BufferZone(centre, distance, distance_max)\n",
    "remaining_roads = bz.get_intersecting_lines(road_lines)\n",
    "interior_closure_points = bz.get_intersecting_perimeter_points(\"interior\", road_lines)\n",
    "exterior_closure_points = bz.get_intersecting_perimeter_points(\"exterior\", road_lines)\n",
    "\n",
    "remaining_roads_gdf = gpd.GeoDataFrame({\"geometry\": remaining_roads, \"id\": range(len(remaining_roads))}).explode().reset_index()\n",
    "\n",
    "g = make_buffer_zone_graph(centre, remaining_roads)"
   ]
  },
  {
   "cell_type": "code",
   "execution_count": null,
   "id": "0abc2f8d",
   "metadata": {},
   "outputs": [],
   "source": [
    "g.nodes(data=\"interior_closure\", default=False)\n",
    "g.nodes(data=\"exterior_closure\", default=False)\n",
    "for point in interior_closure_points:\n",
    "    print(g.nodes[point])\n",
    "    g.nodes[point][\"interior_closure\"] = True\n",
    "for point in exterior_closure_points:\n",
    "    g.nodes[point][\"exterior_closure\"] = True\n"
   ]
  },
  {
   "cell_type": "code",
   "execution_count": null,
   "id": "c88fc52d",
   "metadata": {},
   "outputs": [],
   "source": [
    "import networkx as nx\n",
    "node_attrs = nx.get_node_attributes(g, \"dist_to_centre\")\n",
    "node_gdf = gpd.GeoDataFrame({\"geometry\": node_attrs.keys(),\n",
    "                 \"dist_to_centre\":  node_attrs.values()})\n",
    "inital_closure_nodes = nx.get_node_attributes(g, \"initial_closure\")\n",
    "inital_closure_gdf = gpd.GeoDataFrame({\"geometry\": inital_closure_nodes.keys(),\n",
    "                 \"initial_closure\":  inital_closure_nodes.values()})\n",
    "max_closure_nodes = nx.get_node_attributes(g, \"exterior_closure\")\n",
    "max_closure_nodes_gdf = gpd.GeoDataFrame({\"geometry\": max_closure_nodes.keys(),\n",
    "                 \"initial_closure\":  max_closure_nodes.values()})\n",
    "node_degree = dict(g.degree())\n",
    "degree_gdf = gpd.GeoDataFrame({\"geometry\": node_degree.keys(),\n",
    "                 \"degree\":  node_degree.values()})"
   ]
  },
  {
   "cell_type": "code",
   "execution_count": null,
   "id": "eb409607",
   "metadata": {},
   "outputs": [],
   "source": [
    "import matplotlib.pyplot as plt\n",
    "\n",
    "fig, ax = plt.subplots(figsize=[15, 15])\n",
    "remaining_roads_gdf.plot(color=\"grey\", ax=ax)\n",
    "node_gdf.plot(\"dist_to_centre\", ax=ax)\n",
    "inital_closure_gdf.plot(\"dist_to_centre\", ax=ax, color='r')"
   ]
  },
  {
   "cell_type": "code",
   "execution_count": null,
   "id": "797fd029",
   "metadata": {},
   "outputs": [],
   "source": [
    "fig, ax = plt.subplots(figsize=[15, 15])\n",
    "remaining_roads_gdf.plot(color=\"grey\", ax=ax)\n",
    "degree_gdf.plot(\"degree\", ax=ax, color=\"white\")\n",
    "degree_gdf[degree_gdf['degree'] > 1].plot(\"degree\", ax=ax)\n",
    "# inital_closure_gdf.plot(\"dist_to_centre\", ax=ax, color='r')"
   ]
  },
  {
   "cell_type": "code",
   "execution_count": null,
   "id": "6ecaf0b3",
   "metadata": {},
   "outputs": [],
   "source": [
    "# remove subgraphs that don't go all the way through... I think\n",
    "coords = []\n",
    "component_id = []\n",
    "for n, component in enumerate(nx.connected_components(nx.to_undirected(g))):\n",
    "#     print(g.nodes[list(component)[0]])\n",
    "    for node in component:\n",
    "        g.nodes[node][\"subgraph\"] = n\n",
    "        if node in inital_closure_nodes:\n",
    "            if node in max_closure_nodes:\n",
    "                coords.extend(component)\n",
    "                compnent_id.extend([n] * len(compnent))\n",
    "                break\n",
    "                \n",
    "    print(g.nodes(data=True))"
   ]
  },
  {
   "cell_type": "code",
   "execution_count": null,
   "id": "501a8ab8",
   "metadata": {},
   "outputs": [],
   "source": [
    "subgraphs = {}\n",
    "for n, component in enumerate(nx.connected_components(nx.to_undirected(g))):\n",
    "    subgraphs[n] = list(component)\n",
    "    for node in component:\n",
    "        g.nodes[node][\"subgraph\"] = n\n",
    "\n",
    "# print(subgraphs)\n",
    "invalid_subgraphs = []\n",
    "for subgraph_id, nodes in subgraphs.items():\n",
    "    contains_interior = set(interior_closure_points).intersection(set(nodes))\n",
    "    contains_exterior = set(exterior_closure_points).intersection(set(nodes))\n",
    "    if not contains_interior or not contains_exterior:\n",
    "        invalid_subgraphs.append(subgraph_id)\n",
    "        \n",
    "invalid_subgraphs\n",
    "set(g)"
   ]
  },
  {
   "cell_type": "code",
   "execution_count": null,
   "id": "dc21eeae",
   "metadata": {},
   "outputs": [],
   "source": [
    "interior_set = set(interior_closure_points)\n",
    "exterior_set = set(exterior_closure_points)\n",
    "subgraphs = {}\n",
    "g.nodes(data=\"subgraph\", default=None)\n",
    "for subgraph_id, component in enumerate(nx.connected_components(nx.to_undirected(g))):\n",
    "    contains_interior = interior_set.intersection(component)\n",
    "    contains_exterior = exterior_set.intersection(component)\n",
    "    if contains_interior and contains_exterior:\n",
    "        subgraph_nodes = list(component)\n",
    "        subgraphs[subgraph_id] = subgraph_nodes\n",
    "        for node in subgraph_nodes:\n",
    "            g.nodes[node][\"subgraph\"] = subgraph_id\n",
    "g.subgraph(subgraphs[1]).nodes(data=True)"
   ]
  },
  {
   "cell_type": "code",
   "execution_count": null,
   "id": "841c2043",
   "metadata": {},
   "outputs": [],
   "source": [
    "g.nodes(data=\"interior_closure\", default=False)\n",
    "g.nodes(data=\"exterior_closure\", default=False)\n",
    "interior_set = set(interior_closure_points)\n",
    "exterior_set = set(exterior_closure_points)\n",
    "subgraphs = {}\n",
    "components = nx.connected_components(nx.to_undirected(g))\n",
    "for subgraph_id, component in enumerate(components):\n",
    "    interior_nodes = interior_set.intersection(component)\n",
    "    exterior_nodes = exterior_set.intersection(component)\n",
    "\n",
    "    if interior_nodes and exterior_nodes:\n",
    "        subgraph = g.subgraph(list(component)).copy()\n",
    "        for node in interior_nodes:\n",
    "            subgraph.nodes[node][\"interior_closure\"] = True\n",
    "        for node in exterior_nodes:\n",
    "            subgraph.nodes[node][\"exterior_closure\"] = True\n",
    "        subgraph.graph[\"subgraph_id\"] = subgraph_id\n",
    "        subgraphs[subgraph_id] = subgraph\n",
    "subgraphs"
   ]
  },
  {
   "cell_type": "code",
   "execution_count": null,
   "id": "e989c4ef",
   "metadata": {},
   "outputs": [],
   "source": [
    "from AutoCordon.cordon_graph import get_valid_subgraphs\n",
    "get_valid_subgraphs(g, interior_closure_points, exterior_closure_points)"
   ]
  },
  {
   "cell_type": "code",
   "execution_count": null,
   "id": "b8c1acad",
   "metadata": {},
   "outputs": [],
   "source": []
  }
 ],
 "metadata": {
  "kernelspec": {
   "display_name": "Python 3",
   "language": "python",
   "name": "python3"
  },
  "language_info": {
   "codemirror_mode": {
    "name": "ipython",
    "version": 3
   },
   "file_extension": ".py",
   "mimetype": "text/x-python",
   "name": "python",
   "nbconvert_exporter": "python",
   "pygments_lexer": "ipython3",
   "version": "3.8.8"
  }
 },
 "nbformat": 4,
 "nbformat_minor": 5
}
