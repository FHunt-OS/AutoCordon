{
 "cells": [
  {
   "cell_type": "code",
   "execution_count": null,
   "id": "74b66d06",
   "metadata": {},
   "outputs": [],
   "source": [
    "import geopandas as gpd\n",
    "from AutoCordon.buffer_zone import BufferZone\n",
    "from AutoCordon.buffer_zone_graph import get_subgraphs, make_buffer_zone_graph\n",
    "from AutoCordon.prune_edges import get_closure_edges\n",
    "from pygeos.io import from_shapely\n",
    "import pickle as pkl\n",
    "import momepy as mm\n",
    "import numpy as np\n",
    "import networkx as nx"
   ]
  },
  {
   "cell_type": "code",
   "execution_count": null,
   "id": "ad51d65d",
   "metadata": {},
   "outputs": [],
   "source": [
    "roads_path = r\"..\\tests\\data\\SU_RoadLink.shp\"\n",
    "distance = 550\n",
    "distance_max = 750\n",
    "distance_wider = distance_max * 2\n",
    "centre = (442000, 112000)"
   ]
  },
  {
   "cell_type": "code",
   "execution_count": null,
   "id": "c6a8cb8c",
   "metadata": {},
   "outputs": [],
   "source": [
    "roads = gpd.read_file(roads_path)\n",
    "roads = roads.explode().reset_index(drop=True)\n",
    "roads_simplified = mm.remove_false_nodes(roads)\n",
    "road_lines = from_shapely(roads_simplified.geometry)"
   ]
  },
  {
   "cell_type": "code",
   "execution_count": null,
   "id": "29ec1896",
   "metadata": {},
   "outputs": [],
   "source": [
    "cordon_bz = BufferZone(centre, distance, distance_max)\n",
    "\n",
    "remaining_roads = cordon_bz.get_intersecting_lines(road_lines)\n",
    "remaining_roads_gdf = gpd.GeoDataFrame(geometry=road_lines)\n",
    "interior_closure_points = cordon_bz.get_intersecting_perimeter_points(\"interior\",\n",
    "                                                                road_lines)\n",
    "exterior_closure_points = cordon_bz.get_intersecting_perimeter_points(\"exterior\",\n",
    "                                                                road_lines)"
   ]
  },
  {
   "cell_type": "code",
   "execution_count": null,
   "id": "18881a2c",
   "metadata": {},
   "outputs": [],
   "source": [
    "wider_bz = BufferZone(centre, distance_max, distance_wider)\n",
    "\n",
    "remaining_roads_wider = wider_bz.get_intersecting_lines(road_lines)\n",
    "remaining_roads_gdf_wider = gpd.GeoDataFrame(geometry=road_lines)\n",
    "interior_closure_points_wider = wider_bz.get_intersecting_perimeter_points(\"interior\",\n",
    "                                                                road_lines)\n",
    "exterior_closure_points_wider = wider_bz.get_intersecting_perimeter_points(\"exterior\",\n",
    "                                                                road_lines)"
   ]
  },
  {
   "cell_type": "code",
   "execution_count": null,
   "id": "51bde330",
   "metadata": {},
   "outputs": [],
   "source": [
    "all_remaining_roads = np.concatenate((remaining_roads, remaining_roads_wider))\n",
    "all_remaining_roads"
   ]
  },
  {
   "cell_type": "code",
   "execution_count": null,
   "id": "aedb3131",
   "metadata": {},
   "outputs": [],
   "source": [
    "graph = make_buffer_zone_graph(centre, all_remaining_roads)"
   ]
  },
  {
   "cell_type": "code",
   "execution_count": null,
   "id": "5bd7bc5e",
   "metadata": {},
   "outputs": [],
   "source": [
    "from AutoCordon.prune_edges import get_closure_edges\n",
    "\n",
    "graph = nx.Graph(nx.to_undirected(graph))\n",
    "closure_edges = get_closure_edges(graph)"
   ]
  },
  {
   "cell_type": "code",
   "execution_count": null,
   "id": "c44fc908",
   "metadata": {},
   "outputs": [],
   "source": [
    "closure_edges"
   ]
  },
  {
   "cell_type": "code",
   "execution_count": null,
   "id": "570ca1ad",
   "metadata": {},
   "outputs": [],
   "source": [
    "subgraphs = get_subgraphs(graph, interior_closure_points, exterior_closure_points,\n",
    "                          exterior_closure_points_wider)"
   ]
  },
  {
   "cell_type": "code",
   "execution_count": null,
   "id": "e0956dde",
   "metadata": {},
   "outputs": [],
   "source": [
    "subgraphs"
   ]
  },
  {
   "cell_type": "code",
   "execution_count": null,
   "id": "e9707e18",
   "metadata": {},
   "outputs": [],
   "source": [
    "from cut_edges import get_all_closures, plot_closures\n",
    "\n",
    "data = get_all_closures(subgraphs)"
   ]
  },
  {
   "cell_type": "code",
   "execution_count": null,
   "id": "67b51f5d",
   "metadata": {},
   "outputs": [],
   "source": [
    "starting_edges_gdf = gpd.GeoDataFrame(data[\"starting_edges\"])\n",
    "sources_gdf = gpd.GeoDataFrame(data[\"sources\"])\n",
    "sinks_gdf = gpd.GeoDataFrame(data[\"sinks\"])\n",
    "closed_edges_calc_gdf = gpd.GeoDataFrame(data[\"closed_edges_calc\"])\n",
    "closed_edges_hybrid_gdf = gpd.GeoDataFrame(data[\"closed_edges_hybrid\"])\n",
    "\n",
    "plot_closures(roads,\n",
    "              starting_edges_gdf,\n",
    "              sources_gdf,\n",
    "              sinks_gdf,\n",
    "              closed_edges_calc_gdf,\n",
    "              closed_edges_hybrid_gdf,\n",
    "              None, save=False)\n",
    "\n",
    "for subgraph_id in subgraphs:\n",
    "        plot_closures(roads,\n",
    "                      starting_edges_gdf[starting_edges_gdf[\"subgraph_id\"] == subgraph_id],\n",
    "                      sources_gdf[sources_gdf[\"subgraph_id\"] == subgraph_id],\n",
    "                      sinks_gdf[sinks_gdf[\"subgraph_id\"] == subgraph_id],\n",
    "                      closed_edges_calc_gdf[closed_edges_calc_gdf[\"subgraph_id\"] == subgraph_id],\n",
    "                      closed_edges_hybrid_gdf[closed_edges_hybrid_gdf[\"subgraph_id\"] == subgraph_id],\n",
    "                      subgraph_id, save=False)"
   ]
  },
  {
   "cell_type": "code",
   "execution_count": null,
   "id": "3fc4b022",
   "metadata": {},
   "outputs": [],
   "source": []
  },
  {
   "cell_type": "code",
   "execution_count": null,
   "id": "99ae58d3",
   "metadata": {},
   "outputs": [],
   "source": []
  },
  {
   "cell_type": "code",
   "execution_count": null,
   "id": "66555581",
   "metadata": {},
   "outputs": [],
   "source": []
  },
  {
   "cell_type": "code",
   "execution_count": null,
   "id": "248285da",
   "metadata": {},
   "outputs": [],
   "source": []
  },
  {
   "cell_type": "code",
   "execution_count": null,
   "id": "d007f170",
   "metadata": {},
   "outputs": [],
   "source": []
  }
 ],
 "metadata": {
  "kernelspec": {
   "display_name": "Python 3",
   "language": "python",
   "name": "python3"
  },
  "language_info": {
   "codemirror_mode": {
    "name": "ipython",
    "version": 3
   },
   "file_extension": ".py",
   "mimetype": "text/x-python",
   "name": "python",
   "nbconvert_exporter": "python",
   "pygments_lexer": "ipython3",
   "version": "3.8.8"
  }
 },
 "nbformat": 4,
 "nbformat_minor": 5
}
