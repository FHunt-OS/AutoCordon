{
 "cells": [
  {
   "cell_type": "code",
   "execution_count": null,
   "id": "7034477b",
   "metadata": {},
   "outputs": [],
   "source": [
    "import momepy\n",
    "import geopandas as gpd\n",
    "import matplotlib.pyplot as plt\n",
    "from AutoCordon.cordon import get_road_closure_locations\n",
    "from pygeos.geometry import get_x, get_y"
   ]
  },
  {
   "cell_type": "code",
   "execution_count": null,
   "id": "3a1a2ae7",
   "metadata": {},
   "outputs": [],
   "source": [
    "roads = gpd.read_file(r\"..\\tests\\data\\sample_roads_soton_centre.geojson\").explode().reset_index(drop=True)"
   ]
  },
  {
   "cell_type": "code",
   "execution_count": null,
   "id": "6eb193b8",
   "metadata": {},
   "outputs": [],
   "source": [
    "graph = momepy.gdf_to_nx(roads, approach='primal')"
   ]
  },
  {
   "cell_type": "code",
   "execution_count": null,
   "id": "8c18ca04",
   "metadata": {},
   "outputs": [],
   "source": [
    "graph = momepy.node_degree(graph, name='degree')\n",
    "nodes, edges, sw = momepy.nx_to_gdf(graph, points=True, lines=True,\n",
    "                                    spatial_weights=True)"
   ]
  },
  {
   "cell_type": "code",
   "execution_count": null,
   "id": "7eb77788",
   "metadata": {},
   "outputs": [],
   "source": [
    "f, ax = plt.subplots(figsize=(10, 10))\n",
    "n = nodes.plot(ax=ax, column='degree', markersize=(nodes['degree'] * 10), zorder=2)\n",
    "edges.plot(ax=ax, color='lightgrey', zorder=1)\n",
    "ax.set_axis_off()\n",
    "plt.show()"
   ]
  },
  {
   "cell_type": "code",
   "execution_count": null,
   "id": "fc615954",
   "metadata": {},
   "outputs": [],
   "source": [
    "graph = momepy.meshedness(graph, radius=200, name='meshedness400',\n",
    "                          distance='mm_len')"
   ]
  },
  {
   "cell_type": "code",
   "execution_count": null,
   "id": "a657e779",
   "metadata": {},
   "outputs": [],
   "source": [
    "nodes, edges, sw = momepy.nx_to_gdf(graph, points=True, lines=True,\n",
    "                                    spatial_weights=True)\n",
    "f, ax = plt.subplots(figsize=(10, 10))\n",
    "n = nodes.plot(ax=ax, column='meshedness400', markersize=(nodes['degree'] * 10), zorder=2)\n",
    "edges.plot(ax=ax, color='lightgrey', zorder=1)\n",
    "ax.set_axis_off()\n",
    "plt.show()"
   ]
  },
  {
   "cell_type": "code",
   "execution_count": null,
   "id": "db937079",
   "metadata": {},
   "outputs": [],
   "source": [
    "edges"
   ]
  },
  {
   "cell_type": "code",
   "execution_count": null,
   "id": "751c2110",
   "metadata": {},
   "outputs": [],
   "source": [
    "graph = momepy.(graph, name='betweenness_metric_e', mode='edges', weight='mm_len')"
   ]
  },
  {
   "cell_type": "code",
   "execution_count": null,
   "id": "6b23e350",
   "metadata": {},
   "outputs": [],
   "source": [
    "graph_gdf = momepy.nx_to_gdf(graph, points=False)\n",
    "f, ax = plt.subplots(figsize=(15, 15))\n",
    "graph_gdf.plot(ax=ax, column='betweenness_metric_e', cmap='Spectral_r', scheme='quantiles', alpha=0.6)\n",
    "ax.set_axis_off()\n",
    "plt.show()"
   ]
  },
  {
   "cell_type": "code",
   "execution_count": null,
   "id": "54110b8f",
   "metadata": {},
   "outputs": [],
   "source": [
    "distance = 200\n",
    "poi = (442500, 112500)\n",
    "closure_locations = get_road_closure_locations(poi, distance, from_shapely(roads.geometry))\n",
    "f, ax = plt.subplots(figsize=(15, 15))\n",
    "graph_gdf.plot(ax=ax, column='betweenness_metric_e', cmap='Spectral_r', scheme='quantiles', alpha=0.6)\n",
    "ax.set_axis_off()\n",
    "ax.scatter(get_x(closure_locations), get_y(closure_locations), color='r')\n",
    "ax.scatter(*poi, color='g')\n",
    "plt.show()"
   ]
  },
  {
   "cell_type": "code",
   "execution_count": null,
   "id": "2c25e30e",
   "metadata": {},
   "outputs": [],
   "source": [
    "f, ax = plt.subplots(figsize=(15, 15))\n",
    "n = nodes.plot(ax=ax, column='degree', markersize=(nodes['degree'] * 10), zorder=2)\n",
    "edges.plot(ax=ax, color='lightgrey', zorder=1)\n",
    "ax.scatter(get_x(closure_locations), get_y(closure_locations), color='r')\n",
    "ax.scatter(*poi, color='g')\n",
    "ax.set_axis_off()\n",
    "plt.show()"
   ]
  },
  {
   "cell_type": "code",
   "execution_count": null,
   "id": "a4ccc087",
   "metadata": {},
   "outputs": [],
   "source": [
    "# Add basic closures to graph as nodes\n"
   ]
  },
  {
   "cell_type": "code",
   "execution_count": null,
   "id": "15213102",
   "metadata": {},
   "outputs": [],
   "source": [
    "from pygeos.measurement import distance\n",
    "from pygeos.creation import points\n",
    "from pygeos.io import from_shapely\n",
    "\n",
    "poi = points((442000, 112000))\n",
    "nodes[\"dist_to_poi\"] = [distance(node, poi) for node in from_shapely(nodes.geometry)]\n",
    "print(nodes['dist_to_poi'])"
   ]
  },
  {
   "cell_type": "code",
   "execution_count": null,
   "id": "0a0a1656",
   "metadata": {},
   "outputs": [],
   "source": [
    "graph.edges\n"
   ]
  },
  {
   "cell_type": "code",
   "execution_count": null,
   "id": "c3adb971",
   "metadata": {},
   "outputs": [],
   "source": [
    "graph_gdf"
   ]
  }
 ],
 "metadata": {
  "kernelspec": {
   "display_name": "Python 3",
   "language": "python",
   "name": "python3"
  },
  "language_info": {
   "codemirror_mode": {
    "name": "ipython",
    "version": 3
   },
   "file_extension": ".py",
   "mimetype": "text/x-python",
   "name": "python",
   "nbconvert_exporter": "python",
   "pygments_lexer": "ipython3",
   "version": "3.8.8"
  }
 },
 "nbformat": 4,
 "nbformat_minor": 5
}
