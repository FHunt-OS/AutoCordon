{
 "cells": [
  {
   "cell_type": "code",
   "execution_count": null,
   "metadata": {},
   "outputs": [],
   "source": [
    "import matplotlib.pyplot as plt\n",
    "import geopandas as gpd\n",
    "from shapely.geometry import LineString\n",
    "from AutoCordon.cordon import get_road_closure_locations\n",
    "from pygeos.geometry import get_x, get_y\n"
   ]
  },
  {
   "cell_type": "code",
   "execution_count": null,
   "metadata": {},
   "outputs": [],
   "source": [
    "centre_crossroads = [\n",
    "    [(2, 2), (2, 1)],\n",
    "    [(2, 2), (3, 2)],\n",
    "    [(2, 2), (2, 3)],\n",
    "    [(2, 2), (1, 2)]\n",
    "]\n",
    "\n",
    "ring_road = [\n",
    "    [(3, 1), (3, 3)],\n",
    "    [(3, 3), (1, 3)],\n",
    "    [(1, 3), (1, 1)],\n",
    "    [(1, 1), (3, 1)]\n",
    "]\n",
    "\n",
    "spoke_roads = [\n",
    "    [(0, 4), (1, 3)],\n",
    "    [(3, 3), (4, 4)],\n",
    "    [(3, 1), (4, 0)],\n",
    "    [(1, 1), (0, 0)]\n",
    "]\n",
    "\n",
    "dummy_roads = centre_crossroads + ring_road + spoke_roads\n",
    "print(dummy_roads)"
   ]
  },
  {
   "cell_type": "code",
   "execution_count": null,
   "metadata": {},
   "outputs": [],
   "source": [
    "\n",
    "road_linestrings = [LineString(road) for road in dummy_roads]\n",
    "dummy_roads_gdf = gpd.GeoDataFrame({\"geometry\": road_linestrings,\n",
    "                                \"id\": range(len(dummy_roads))},\n",
    "                                crs='epsg:27700')\n"
   ]
  },
  {
   "cell_type": "code",
   "execution_count": null,
   "metadata": {},
   "outputs": [],
   "source": [
    "centre = (1.5, 2)\n",
    "distance = 0.75\n",
    "closure_locations = get_road_closure_locations(centre, distance, dummy_roads)\n",
    "fig, ax = plt.subplots()\n",
    "dummy_roads_gdf.plot(ax=ax)\n",
    "ax.scatter(get_x(closure_locations), get_y(closure_locations), color='r')\n",
    "ax.scatter(*centre, color='g')\n",
    "plt.show()"
   ]
  },
  {
   "cell_type": "code",
   "execution_count": null,
   "metadata": {},
   "outputs": [],
   "source": []
  }
 ],
 "metadata": {
  "kernelspec": {
   "display_name": "Python 3.8.8 64-bit ('dsa': conda)",
   "metadata": {
    "interpreter": {
     "hash": "44c380daba5b252853d6083e91d8df3197ccdfc4a4ea30ee19d589d0f747863d"
    }
   },
   "name": "python3"
  },
  "language_info": {
   "codemirror_mode": {
    "name": "ipython",
    "version": 3
   },
   "file_extension": ".py",
   "mimetype": "text/x-python",
   "name": "python",
   "nbconvert_exporter": "python",
   "pygments_lexer": "ipython3",
   "version": "3.8.8-final"
  }
 },
 "nbformat": 4,
 "nbformat_minor": 2
}
