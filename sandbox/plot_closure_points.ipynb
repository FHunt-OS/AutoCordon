{
 "cells": [
  {
   "cell_type": "code",
   "execution_count": null,
   "metadata": {},
   "outputs": [],
   "source": [
    "import matplotlib.pyplot as plt\n",
    "import geopandas as gpd\n",
    "from AutoCordon.cordon import get_road_closure_locations, split_roads_with_cordon\n",
    "from pygeos.geometry import get_x, get_y\n",
    "from pygeos.io import from_shapely\n",
    "from pygeos.creation import linestrings\n",
    "from pygeos.predicates import equals\n",
    "import numpy as np"
   ]
  },
  {
   "cell_type": "code",
   "execution_count": null,
   "metadata": {},
   "outputs": [],
   "source": [
    "centre_crossroads = linestrings([\n",
    "    [(2, 2), (2, 1)],\n",
    "    [(2, 2), (3, 2)],\n",
    "    [(2, 2), (2, 3)],\n",
    "    [(2, 2), (1, 2)]\n",
    "])\n",
    "\n",
    "ring_road = linestrings([\n",
    "    [(3, 1), (3, 3)],\n",
    "    [(3, 3), (1, 3)],\n",
    "    [(1, 3), (1, 1)],\n",
    "    [(1, 1), (3, 1)]\n",
    "])\n",
    "\n",
    "spoke_roads = linestrings([\n",
    "    [(0, 4), (1, 3)],\n",
    "    [(3, 3), (4, 4)],\n",
    "    [(3, 1), (4, 0)],\n",
    "    [(1, 1), (0, 0)]\n",
    "])\n",
    "\n",
    "dummy_roads = np.concatenate([centre_crossroads, ring_road, spoke_roads])\n",
    "print(dummy_roads)"
   ]
  },
  {
   "cell_type": "code",
   "execution_count": null,
   "metadata": {},
   "outputs": [],
   "source": [
    "dummy_roads_gdf = gpd.GeoDataFrame({\"geometry\": dummy_roads,\n",
    "                                \"id\": range(len(dummy_roads))},\n",
    "                                crs='epsg:27700')\n"
   ]
  },
  {
   "cell_type": "code",
   "execution_count": null,
   "metadata": {},
   "outputs": [],
   "source": [
    "centre = (2, 2)\n",
    "distance = 1.25\n",
    "closure_locations = get_road_closure_locations(centre, distance, dummy_roads)"
   ]
  },
  {
   "cell_type": "code",
   "execution_count": null,
   "metadata": {},
   "outputs": [],
   "source": [
    "fig, ax = plt.subplots()\n",
    "dummy_roads_gdf.plot(ax=ax)\n",
    "ax.scatter(get_x(closure_locations), get_y(closure_locations), color='r')\n",
    "ax.scatter(*centre, color='g')\n",
    "plt.show()"
   ]
  },
  {
   "cell_type": "code",
   "execution_count": null,
   "metadata": {},
   "outputs": [],
   "source": [
    "roads = gpd.read_file(r\"..\\tests\\data\\sample_roads_soton_centre.geojson\").explode().reset_index(drop=True)"
   ]
  },
  {
   "cell_type": "code",
   "execution_count": null,
   "metadata": {},
   "outputs": [],
   "source": [
    "road_lines = from_shapely(roads.geometry)"
   ]
  },
  {
   "cell_type": "code",
   "execution_count": null,
   "metadata": {},
   "outputs": [],
   "source": [
    "centre = (442000, 112000)\n",
    "distance = 250\n",
    "closure_locations = get_road_closure_locations(centre, distance, road_lines)\n",
    "fig, ax = plt.subplots(figsize=[15, 15])\n",
    "roads.plot(ax=ax)\n",
    "ax.scatter(get_x(closure_locations), get_y(closure_locations), color='r')\n",
    "ax.scatter(*centre, color='g')\n",
    "plt.show()\n"
   ]
  },
  {
   "cell_type": "code",
   "execution_count": null,
   "metadata": {},
   "outputs": [],
   "source": [
    "centre = (442000, 112000)\n",
    "distance = 550\n",
    "closure_locations = get_road_closure_locations(centre, distance, road_lines)\n",
    "split_roads = split_roads_with_cordon(centre, distance, road_lines)\n",
    "new_lines = [road for road in split_roads if not equals(road, road_lines).any()]\n",
    "\n",
    "split_roads_gdf = gpd.GeoDataFrame({\"geometry\": new_lines, \"id\": range(len(new_lines))})\n",
    "fig, ax = plt.subplots(figsize=[15, 15])\n",
    "roads.plot(ax=ax)\n",
    "split_roads_gdf.plot(color=\"r\", ax=ax)\n",
    "ax.scatter(get_x(closure_locations), get_y(closure_locations), color='y')\n",
    "ax.scatter(*centre, color='g')\n",
    "plt.show()"
   ]
  },
  {
   "cell_type": "code",
   "execution_count": null,
   "metadata": {},
   "outputs": [],
   "source": []
  }
 ],
 "metadata": {
  "kernelspec": {
   "display_name": "Python 3",
   "language": "python",
   "name": "python3"
  },
  "language_info": {
   "codemirror_mode": {
    "name": "ipython",
    "version": 3
   },
   "file_extension": ".py",
   "mimetype": "text/x-python",
   "name": "python",
   "nbconvert_exporter": "python",
   "pygments_lexer": "ipython3",
   "version": "3.8.8"
  }
 },
 "nbformat": 4,
 "nbformat_minor": 2
}
