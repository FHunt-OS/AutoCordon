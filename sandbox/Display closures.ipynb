{
 "cells": [
  {
   "cell_type": "code",
   "execution_count": null,
   "id": "5ff7e964",
   "metadata": {},
   "outputs": [],
   "source": [
    "import pygeos as pyg\n",
    "import geopandas as gpd\n",
    "from networkx.algorithms.centrality import current_flow_betweenness_centrality_subset\n",
    "from structure import get_road_closures\n",
    "from structure_nodes import get_junction_closures\n",
    "import numpy as np\n",
    "import matplotlib.pyplot as plt\n",
    "from datetime import datetime\n",
    "import os\n",
    "import folium\n",
    "import configparser\n",
    "import project_paths as paths"
   ]
  },
  {
   "cell_type": "code",
   "execution_count": null,
   "id": "f0290570",
   "metadata": {},
   "outputs": [],
   "source": [
    "roads_path = r\"..\\tests\\data\\SU_RoadLink.shp\"\n",
    "roads = gpd.read_file(roads_path)\n",
    "roads = roads.explode().reset_index(drop=True)\n",
    "road_lines = pyg.from_shapely(roads.geometry)"
   ]
  },
  {
   "cell_type": "code",
   "execution_count": null,
   "id": "8d2d8a18",
   "metadata": {},
   "outputs": [],
   "source": [
    "centre = (442000, 113000)\n",
    "distance = 200\n",
    "distance_max = 300\n",
    "wider_factor = 1"
   ]
  },
  {
   "cell_type": "code",
   "execution_count": null,
   "id": "7ee4a955",
   "metadata": {},
   "outputs": [],
   "source": [
    "# NODES\n",
    "\n",
    "removals, candidates = get_junction_closures(road_lines, centre, distance, distance_max, wider_factor)\n",
    "# pyg.prepare(candidates)\n",
    "# intersection1 = np.array([pyg.intersects(candidates, edge) for edge in pyg.get_point(removals, 0)])\n",
    "# intersection2 = np.array([pyg.intersects(candidates, edge) for edge in pyg.get_point(removals, -1)])\n",
    "# intersection = np.max(intersection1 * intersection2, axis=0)"
   ]
  },
  {
   "cell_type": "code",
   "execution_count": null,
   "id": "55f7f5d3",
   "metadata": {},
   "outputs": [],
   "source": [
    "mls_road_lines = pyg.multilinestrings(road_lines)\n",
    "display_roads = pyg.clip_by_rect(mls_road_lines, *pyg.bounds(pyg.buffer(pyg.points(*centre), distance_max + 500)))\n",
    "geometry_gdf = gpd.GeoDataFrame({\"geometry\": [display_roads,\n",
    "                                              pyg.multipolygons(pyg.buffer(removals, 5)),\n",
    "                                              pyg.points(*centre),\n",
    "                                              pyg.buffer(pyg.points(*centre), distance),\n",
    "                                              pyg.buffer(pyg.points(*centre), distance_max)]},\n",
    "                                crs=\"EPSG:27700\").to_crs(\"EPSG:4326\")"
   ]
  },
  {
   "cell_type": "code",
   "execution_count": null,
   "id": "dbfdd9dd",
   "metadata": {},
   "outputs": [],
   "source": [
    "config = configparser.ConfigParser()\n",
    "config.read(paths.config_path)\n",
    "API_KEY = config['KEYS']['API_KEY']\n",
    "MAP_CENTRE = [geometry_gdf.geometry[2].y, geometry_gdf.geometry[2].x]\n",
    "LAYER = \"Light_3857\"\n",
    "TILES = f\"https://api.os.uk/maps/raster/v1/zxy/{LAYER}/{{z}}/{{x}}/{{y}}.png?key={API_KEY}\"\n",
    "ATTR = f\"Contains OS data © Crown copyright and database right {datetime.now().year}\"\n",
    "\n",
    "folium_params = {\"location\": MAP_CENTRE,\n",
    "                 \"zoom_start\": 15,\n",
    "                 \"tiles\": TILES,\n",
    "                 \"attr\": ATTR}\n",
    "\n",
    "os.environ['PROJ_NETWORK'] = 'OFF'\n",
    "\n",
    "def get_geojson_map(gdf):\n",
    "    m = folium.Map(**folium_params)\n",
    "    folium.GeoJson(gdf.geometry[0],\n",
    "                   style_function=lambda x: {\n",
    "#                    'fillColor': \"yellow\",\n",
    "                   'color': 'black',\n",
    "#                    'fillOpacity': 0.4,\n",
    "#                    'lineOpacity': 0.9,\n",
    "                   'weight': 0.4}).add_to(m)\n",
    "    folium.GeoJson(gdf.geometry[1],\n",
    "                   style_function=lambda x: {\n",
    "#                    'fillColor': \"green\",\n",
    "                   'color': 'red',\n",
    "#                    'fillOpacity': 0.6,\n",
    "                   'lineOpacity': 1,\n",
    "                   'weight': 2}).add_to(m)\n",
    "    folium.GeoJson(gdf.geometry[3],\n",
    "                   style_function=lambda x: {\n",
    "#                    'fillColor': \"green\",\n",
    "                   'color': 'red',\n",
    "                   'fillOpacity': 0.4,\n",
    "                   'lineOpacity': 0.5,\n",
    "                   'weight': 0.5}).add_to(m)\n",
    "    folium.GeoJson(gdf.geometry[4],\n",
    "                   style_function=lambda x: {\n",
    "#                    'fillColor': \"green\",\n",
    "                   'color': 'red',\n",
    "                   'fillOpacity': 0.1,\n",
    "                   'lineOpacity': 0.3,\n",
    "                   'weight': 0.5}).add_to(m)\n",
    "    folium.Marker(MAP_CENTRE,\n",
    "                  icon=folium.Icon(color=\"red\", icon=\"glyphicon-exclamation-sign\")\n",
    "                   ).add_to(m)\n",
    "    return m"
   ]
  },
  {
   "cell_type": "code",
   "execution_count": null,
   "id": "cf6e6117",
   "metadata": {},
   "outputs": [],
   "source": [
    "get_geojson_map(geometry_gdf)"
   ]
  },
  {
   "cell_type": "code",
   "execution_count": null,
   "id": "0296e700",
   "metadata": {},
   "outputs": [],
   "source": [
    "# EDGES\n",
    "\n",
    "# removals, candidates = get_road_closures(road_lines, centre, distance, distance_max, wider_factor)\n",
    "# pyg.prepare(candidates)\n",
    "# intersection1 = np.array([pyg.intersects(candidates, edge) for edge in pyg.get_point(removals, 0)])\n",
    "# intersection2 = np.array([pyg.intersects(candidates, edge) for edge in pyg.get_point(removals, -1)])\n",
    "# intersection = np.max(intersection1 * intersection2, axis=0)"
   ]
  },
  {
   "cell_type": "code",
   "execution_count": null,
   "id": "0c6a8963",
   "metadata": {},
   "outputs": [],
   "source": [
    "# geometry_gdf = gpd.GeoDataFrame({\"geometry\": [pyg.multilinestrings(road_lines),\n",
    "#                                               pyg.multilinestrings(candidates[intersection]),\n",
    "#                                               pyg.points(*centre),\n",
    "#                                               pyg.buffer(pyg.points(*centre), distance)]},\n",
    "#                                 crs=\"EPSG:27700\").to_crs(\"EPSG:4326\")"
   ]
  },
  {
   "cell_type": "code",
   "execution_count": null,
   "id": "7c09a7b1",
   "metadata": {},
   "outputs": [],
   "source": []
  },
  {
   "cell_type": "code",
   "execution_count": null,
   "id": "4f592dc1",
   "metadata": {},
   "outputs": [],
   "source": []
  },
  {
   "cell_type": "code",
   "execution_count": null,
   "id": "6f33dccb",
   "metadata": {},
   "outputs": [],
   "source": []
  }
 ],
 "metadata": {
  "kernelspec": {
   "display_name": "Python 3",
   "language": "python",
   "name": "python3"
  },
  "language_info": {
   "codemirror_mode": {
    "name": "ipython",
    "version": 3
   },
   "file_extension": ".py",
   "mimetype": "text/x-python",
   "name": "python",
   "nbconvert_exporter": "python",
   "pygments_lexer": "ipython3",
   "version": "3.8.8"
  }
 },
 "nbformat": 4,
 "nbformat_minor": 5
}
