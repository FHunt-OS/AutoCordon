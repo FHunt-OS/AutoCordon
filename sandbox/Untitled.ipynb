{
 "cells": [
  {
   "cell_type": "code",
   "execution_count": null,
   "id": "001d4cbc",
   "metadata": {},
   "outputs": [],
   "source": [
    "import matplotlib.pyplot as plt\n",
    "import geopandas as gpd\n",
    "from AutoCordon.cordon import get_road_closure_locations, split_roads_with_cordon, remove_roads_within_cordon, extract_closure_candidates\n",
    "from pygeos.geometry import get_x, get_y\n",
    "from pygeos.io import from_shapely\n",
    "from pygeos.predicates import equals\n",
    "import momepy"
   ]
  },
  {
   "cell_type": "code",
   "execution_count": null,
   "id": "a95c3a2d",
   "metadata": {},
   "outputs": [],
   "source": [
    "roads = gpd.read_file(r\"..\\tests\\data\\sample_roads_soton_centre.geojson\").explode().reset_index(drop=True)\n",
    "road_lines = from_shapely(roads.geometry)"
   ]
  },
  {
   "cell_type": "code",
   "execution_count": null,
   "id": "790a0324",
   "metadata": {},
   "outputs": [],
   "source": [
    "centre = (442000, 112000)\n",
    "distance = 550\n",
    "distance_max = 600\n",
    "closure_locations = get_road_closure_locations(centre, distance, road_lines)\n",
    "split_roads = split_roads_with_cordon(centre, distance, road_lines)\n",
    "new_lines = [road for road in split_roads if not equals(road, road_lines).any()]\n",
    "new_lines_gdf = gpd.GeoDataFrame({\"geometry\": new_lines, \"id\": range(len(new_lines))})\n",
    "remaining_roads = extract_closure_candidates(centre, distance, distance_max, road_lines)\n",
    "# remaining_roads = remove_roads_within_cordon(centre, distance, road_lines)\n",
    "remaining_roads_gdf = gpd.GeoDataFrame({\"geometry\": remaining_roads, \"id\": range(len(remaining_roads))}).explode().reset_index()"
   ]
  },
  {
   "cell_type": "code",
   "execution_count": null,
   "id": "25dd61c8",
   "metadata": {},
   "outputs": [],
   "source": [
    "remaining_roads_gdf"
   ]
  },
  {
   "cell_type": "code",
   "execution_count": null,
   "id": "f555f953",
   "metadata": {},
   "outputs": [],
   "source": [
    "fig, ax = plt.subplots(figsize=[15, 15])\n",
    "roads.plot(ax=ax)\n",
    "remaining_roads_gdf.plot(color=\"r\", ax=ax)\n",
    "ax.scatter(get_x(closure_locations), get_y(closure_locations), color='y')\n",
    "ax.scatter(*centre, color='g')\n",
    "plt.show()"
   ]
  },
  {
   "cell_type": "code",
   "execution_count": null,
   "id": "1350fd78",
   "metadata": {},
   "outputs": [],
   "source": [
    "split_roads_gdf = gpd.GeoDataFrame({\"geometry\": split_roads, \"id\": range(len(split_roads))})\n",
    "graph = momepy.gdf_to_nx(remaining_roads_gdf)"
   ]
  },
  {
   "cell_type": "code",
   "execution_count": null,
   "id": "65b2f875",
   "metadata": {},
   "outputs": [],
   "source": [
    "nodes, edges, sw = momepy.nx_to_gdf(graph, points=True, lines=True,\n",
    "                                    spatial_weights=True)\n",
    "nodes\n",
    "sw"
   ]
  },
  {
   "cell_type": "code",
   "execution_count": null,
   "id": "98af2a45",
   "metadata": {},
   "outputs": [],
   "source": [
    "import networkx as nx "
   ]
  },
  {
   "cell_type": "code",
   "execution_count": null,
   "id": "aa1dd0eb",
   "metadata": {},
   "outputs": [],
   "source": [
    "graph.nodes"
   ]
  },
  {
   "cell_type": "raw",
   "id": "906147ea",
   "metadata": {},
   "source": []
  },
  {
   "cell_type": "code",
   "execution_count": null,
   "id": "01a6c360",
   "metadata": {},
   "outputs": [],
   "source": [
    "source = (442745.0, 111065.0)\n",
    "target = (441391.415, 111891.2990000006)\n",
    "paths = [p for p in nx.all_shortest_paths(graph, source=source, target=target)]\n",
    "x, y = zip(*paths[0])"
   ]
  },
  {
   "cell_type": "code",
   "execution_count": null,
   "id": "5f28669d",
   "metadata": {},
   "outputs": [],
   "source": [
    "fig, ax = plt.subplots(figsize=[15, 15])\n",
    "# roads.plot(ax=ax)\n",
    "remaining_roads_gdf.plot(ax=ax)\n",
    "# new_lines_gdf.plot(color=\"r\", ax=ax)\n",
    "ax.scatter(x, y, color='r')\n",
    "ax.scatter(*centre, color='g')\n",
    "ax.scatter(*source, color='g')\n",
    "ax.scatter(*target, color='g')\n",
    "plt.show()"
   ]
  },
  {
   "cell_type": "code",
   "execution_count": null,
   "id": "8de0dc79",
   "metadata": {},
   "outputs": [],
   "source": [
    "import networkx as nx\n",
    "import momepy\n",
    "\n",
    "nx.load_centrality()"
   ]
  }
 ],
 "metadata": {
  "kernelspec": {
   "display_name": "Python 3",
   "language": "python",
   "name": "python3"
  },
  "language_info": {
   "codemirror_mode": {
    "name": "ipython",
    "version": 3
   },
   "file_extension": ".py",
   "mimetype": "text/x-python",
   "name": "python",
   "nbconvert_exporter": "python",
   "pygments_lexer": "ipython3",
   "version": "3.8.8"
  }
 },
 "nbformat": 4,
 "nbformat_minor": 5
}
